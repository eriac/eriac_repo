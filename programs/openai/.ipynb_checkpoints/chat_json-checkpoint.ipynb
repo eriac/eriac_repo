{
 "cells": [
  {
   "cell_type": "code",
   "execution_count": 1,
   "id": "350cf985-b462-4134-b637-aa06830e96df",
   "metadata": {},
   "outputs": [],
   "source": [
    "from openai import OpenAI\n",
    "import os\n",
    "\n",
    "client = OpenAI()\n",
    "OpenAI.api_key = os.getenv('OPENAI_API_KEY')"
   ]
  },
  {
   "cell_type": "code",
   "execution_count": 2,
   "id": "f31e23c0-f3ee-49b0-a232-42826ced0d78",
   "metadata": {},
   "outputs": [
    {
     "name": "stdout",
     "output_type": "stream",
     "text": [
      "ChatCompletion(id='chatcmpl-8WXaa1jVazzOyJtghswAHyR0nA8RH', choices=[Choice(finish_reason='function_call', index=0, message=ChatCompletionMessage(content=None, role='assistant', function_call=FunctionCall(arguments='{\\n  \"location\": \"Tokyo\"\\n}', name='get_current_wather'), tool_calls=None), logprobs=None)], created=1702766304, model='gpt-3.5-turbo-0613', object='chat.completion', system_fingerprint=None, usage=CompletionUsage(completion_tokens=18, prompt_tokens=74, total_tokens=92))\n"
     ]
    }
   ],
   "source": [
    "functions = [\n",
    "    {\n",
    "        \"name\" : \"get_current_wather\",\n",
    "        \"description\": \"Get the currrent weather in a given location\",\n",
    "        \"parameters\" : {\n",
    "            \"type\": \"object\",\n",
    "            \"properties\": {\n",
    "                \"location\": {\n",
    "                    \"type\": \"string\",\n",
    "                    \"description\": \"The city and state, e.g. Tokyo, Yokohama\",\n",
    "                },\n",
    "            },\n",
    "        },\n",
    "    },\n",
    "]\n",
    "\n",
    "my_messages=[\n",
    "    {\"role\": \"user\", \"content\": \"what is whather like in Tokyo.\"},\n",
    "]\n",
    "\n",
    "response = client.chat.completions.create(\n",
    "    model=\"gpt-3.5-turbo\",\n",
    "    messages=my_messages,\n",
    "    functions = functions,\n",
    "    temperature=0.2,\n",
    "    max_tokens=100\n",
    ")\n",
    "print(response)"
   ]
  },
  {
   "cell_type": "code",
   "execution_count": 8,
   "id": "f5ed06fa-77d2-4df2-8b93-346e5fd0e2e1",
   "metadata": {},
   "outputs": [
    {
     "name": "stdout",
     "output_type": "stream",
     "text": [
      "function_call\n",
      "FunctionCall(arguments='{\\n  \"location\": \"Tokyo\"\\n}', name='get_current_wather')\n"
     ]
    }
   ],
   "source": [
    "print(response.choices[0].finish_reason)\n",
    "print(response.choices[0].message.function_call)\n"
   ]
  },
  {
   "cell_type": "code",
   "execution_count": 9,
   "id": "a72f3ebe-5cb8-4800-a8e5-1355acc3a5b2",
   "metadata": {},
   "outputs": [
    {
     "name": "stdout",
     "output_type": "stream",
     "text": [
      "ChatCompletion(id='chatcmpl-8WXde8hf6iXoKySgqfTDmRPP0rgdf', choices=[Choice(finish_reason='function_call', index=0, message=ChatCompletionMessage(content=None, role='assistant', function_call=FunctionCall(arguments='{\\n  \"location\": \"kitchen\"\\n}', name='goto'), tool_calls=None), logprobs=None)], created=1702766494, model='gpt-3.5-turbo-0613', object='chat.completion', system_fingerprint=None, usage=CompletionUsage(completion_tokens=15, prompt_tokens=72, total_tokens=87))\n"
     ]
    }
   ],
   "source": [
    "functions = [\n",
    "    {\n",
    "        \"name\" : \"goto\",\n",
    "        \"description\": \"move to the target location\",\n",
    "        \"parameters\" : {\n",
    "            \"type\": \"object\",\n",
    "            \"properties\": {\n",
    "                \"location\": {\n",
    "                    \"type\": \"string\",\n",
    "                    \"description\": \"target location to move, e.g. kitchen, room_a, room_b, room_c, entrance, living\",\n",
    "                },\n",
    "            },\n",
    "        },\n",
    "    },\n",
    "]\n",
    "\n",
    "my_messages=[\n",
    "    {\"role\": \"user\", \"content\": \"could you pick up dishes.\"},\n",
    "]\n",
    "\n",
    "response = client.chat.completions.create(\n",
    "    model=\"gpt-3.5-turbo\",\n",
    "    messages=my_messages,\n",
    "    functions = functions,\n",
    "    temperature=0.2,\n",
    "    max_tokens=100\n",
    ")\n",
    "print(response)"
   ]
  },
  {
   "cell_type": "code",
   "execution_count": null,
   "id": "bfec11ee-3e80-48cb-9ffe-3ea882f7ccd8",
   "metadata": {},
   "outputs": [],
   "source": []
  }
 ],
 "metadata": {
  "kernelspec": {
   "display_name": "Python 3 (ipykernel)",
   "language": "python",
   "name": "python3"
  },
  "language_info": {
   "codemirror_mode": {
    "name": "ipython",
    "version": 3
   },
   "file_extension": ".py",
   "mimetype": "text/x-python",
   "name": "python",
   "nbconvert_exporter": "python",
   "pygments_lexer": "ipython3",
   "version": "3.10.12"
  }
 },
 "nbformat": 4,
 "nbformat_minor": 5
}
