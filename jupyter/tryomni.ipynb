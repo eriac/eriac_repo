{
 "cells": [
  {
   "cell_type": "code",
   "execution_count": 16,
   "metadata": {},
   "outputs": [],
   "source": [
    "import numpy as np\n",
    "from scipy.sparse import csr_matrix, csc_matrix, coo_matrix, lil_matrix\n",
    "import numpy as np\n",
    "from scipy.sparse import csr_matrix, csc_matrix\n",
    "from scipy.sparse.linalg import inv, eigs\n",
    "import math"
   ]
  },
  {
   "cell_type": "code",
   "execution_count": 17,
   "metadata": {},
   "outputs": [
    {
     "data": {
      "text/plain": [
       "-1.0"
      ]
     },
     "execution_count": 17,
     "metadata": {},
     "output_type": "execute_result"
    }
   ],
   "source": [
    "math.cos(math.pi)"
   ]
  },
  {
   "cell_type": "code",
   "execution_count": 42,
   "metadata": {},
   "outputs": [
    {
     "name": "stdout",
     "output_type": "stream",
     "text": [
      "[[ 1.00000000e+00  1.66533454e-16 -5.55111512e-17]\n",
      " [ 1.66533454e-16  1.00000000e+00 -5.55111512e-17]\n",
      " [-5.55111512e-17 -5.55111512e-17  1.00000000e+00]]\n"
     ]
    }
   ],
   "source": [
    "l=1.0\n",
    "a=1.0\n",
    "A = [[l*math.cos(math.pi*5/6), l*math.sin(math.pi*5/6), a],\n",
    "     [l*math.cos(math.pi*3/2), l*math.sin(math.pi*3/2), a],\n",
    "     [l*math.cos(math.pi*1/6), l*math.sin(math.pi*1/6), a]]\n",
    "\n",
    "B = [[2/(3*l)*math.cos(math.pi*5/6), 2/(3*l)*math.cos(math.pi*3/2), 2/(3*l)*math.cos(math.pi*1/6)],\n",
    "     [2/(3*l)*math.sin(math.pi*5/6), 2/(3*l)*math.sin(math.pi*3/2), 2/(3*l)*math.sin(math.pi*1/6)],\n",
    "     [1/(3*a), 1/(3*a), 1/(3*a)]]\n",
    "\n",
    "csc_a = csc_matrix(A)\n",
    "csc_b = csc_matrix(B)\n",
    "\n",
    "# csr_inv = linalg.inv(csr)\n",
    "# SparseEfficiencyWarning: splu requires CSC matrix format\n",
    "# SparseEfficiencyWarning: spsolve is more efficient when sparse b is in the CSC matrix format\n",
    "\n",
    "# csc_inv = inv(csc)\n",
    "print((csc_a*csc_b).toarray())\n"
   ]
  },
  {
   "cell_type": "code",
   "execution_count": 31,
   "metadata": {},
   "outputs": [
    {
     "name": "stdout",
     "output_type": "stream",
     "text": [
      "-0.8660254037844387 0.49999999999999994\n",
      "-1.8369701987210297e-16 -1.0\n",
      "0.8660254037844387 0.49999999999999994\n"
     ]
    }
   ],
   "source": [
    "print(math.cos(math.pi*5/6), math.sin(math.pi*5/6))\n",
    "print(math.cos(math.pi*3/2), math.sin(math.pi*3/2))\n",
    "print(math.cos(math.pi*1/6), math.sin(math.pi*1/6))"
   ]
  },
  {
   "cell_type": "code",
   "execution_count": 40,
   "metadata": {},
   "outputs": [
    {
     "data": {
      "text/plain": [
       "0.5773502691896258"
      ]
     },
     "execution_count": 40,
     "metadata": {},
     "output_type": "execute_result"
    }
   ],
   "source": [
    "math.cos(math.pi/6)*2/3"
   ]
  },
  {
   "cell_type": "code",
   "execution_count": null,
   "metadata": {},
   "outputs": [],
   "source": []
  }
 ],
 "metadata": {
  "kernelspec": {
   "display_name": "Python 3",
   "language": "python",
   "name": "python3"
  },
  "language_info": {
   "codemirror_mode": {
    "name": "ipython",
    "version": 3
   },
   "file_extension": ".py",
   "mimetype": "text/x-python",
   "name": "python",
   "nbconvert_exporter": "python",
   "pygments_lexer": "ipython3",
   "version": "3.6.9"
  }
 },
 "nbformat": 4,
 "nbformat_minor": 2
}
